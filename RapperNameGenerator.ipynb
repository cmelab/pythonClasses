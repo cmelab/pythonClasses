{
 "cells": [
  {
   "cell_type": "code",
   "execution_count": null,
   "id": "dcbe98bb",
   "metadata": {},
   "outputs": [],
   "source": [
    "class RapperNameGenerator:\n",
    "    def __init__(self, first, last):\n",
    "        self.zero = \"Post\"\n",
    "        self.one = \"Lil'\"\n",
    "        self.two = \"Young\"\n",
    "        self.three = \"Bad\"\n",
    "        self.four = \"Epic\"\n",
    "        self.five = \"Baby\"\n",
    "        self.six = \"Ultimate\"\n",
    "        self.seven = \"Fierce\"\n",
    "        self.eight = \"Drip\"\n",
    "        self.nine = \"Big\"\n",
    "        self.January = \"Book Nerd\"\n",
    "        self.February = \"Grind\"\n",
    "        self.March = \"Swaggy\"\n",
    "        self.April = \"Unique\"\n",
    "        self.May = \"Hypeman\"\n",
    "        self.June = \"Supreme\"\n",
    "        self.July a\n",
    "        self.December = \"Lawless\"\n",
    "\n",
    "    def rapperName(self):\n",
    "       return 'Your rapper name is {} {}!'.format(self.first, self.last)\n",
    "        "
   ]
  },
  {
   "cell_type": "code",
   "execution_count": null,
   "id": "c2955efc",
   "metadata": {},
   "outputs": [],
   "source": [
    "lastdigit = input(\"What is the last digit of your phone number? (please type in lowercase and spell it out)\")\n",
    "birthmonth = input(\"Sorry, one more piece of information! What is your birth month? (uppercase the first letter)\")\n",
    "\n",
    "myName = RapperNameGenerator(lastdigit, birthmonth)\n",
    "myName.rapperName()\n",
    "print(myName)"
   ]
  },
  {
   "cell_type": "code",
   "execution_count": null,
   "id": "958970e9",
   "metadata": {},
   "outputs": [],
   "source": []
  }
 ],
 "metadata": {
  "kernelspec": {
   "display_name": "Python 3 (ipykernel)",
   "language": "python",
   "name": "python3"
  },
  "language_info": {
   "codemirror_mode": {
    "name": "ipython",
    "version": 3
   },
   "file_extension": ".py",
   "mimetype": "text/x-python",
   "name": "python",
   "nbconvert_exporter": "python",
   "pygments_lexer": "ipython3",
   "version": "3.11.3"
  }
 },
 "nbformat": 4,
 "nbformat_minor": 5
}
