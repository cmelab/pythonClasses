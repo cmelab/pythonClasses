{
 "cells": [
  {
   "cell_type": "code",
   "execution_count": 1,
   "id": "9f7f307f",
   "metadata": {},
   "outputs": [],
   "source": [
    "class NameGenerator:\n",
    "    def __init__(self):\n",
    "        self.firstnames = [\"First name\", \"First name 2\"]\n",
    "        self.lastnames = [\"Last name\", \"Last name 2\"]\n",
    "    \n",
    "    def yourName(self, digit, month):\n",
    "        print('Your name is {} {}!'.format(self.firstnames[digit], self.lastnames[month]))"
   ]
  },
  {
   "cell_type": "code",
   "execution_count": 2,
   "id": "4b196be3",
   "metadata": {},
   "outputs": [
    {
     "name": "stdout",
     "output_type": "stream",
     "text": [
      "Would you like to know your rapper name or your popstar name? (r/p)?r\n"
     ]
    }
   ],
   "source": [
    "whichGen = input(\"Would you like to know your rapper name or your popstar name? (r/p)?\")"
   ]
  },
  {
   "cell_type": "code",
   "execution_count": 3,
   "id": "392acda0",
   "metadata": {},
   "outputs": [
    {
     "name": "stdout",
     "output_type": "stream",
     "text": [
      "You selected rapper! What is the last digit of your phone number?6\n",
      "Sorry, one more piece of information! What is the number of your birth month?6\n",
      "Your name is Ultimate Supreme!\n"
     ]
    }
   ],
   "source": [
    "if whichGen == \"r\":\n",
    "    RapperNameGenerator = NameGenerator()\n",
    "    RapperNameGenerator.firstnames = [\"Post\",\"Lil\", \"Young\", \"Bad\", \"Epic\", \"Baby\", \"Ultimate\", \"Fierce\", \"Drip\", \"Big\"]\n",
    "    RapperNameGenerator.lastnames = [\"There is no such thing as a zero month!\", \"Book Nerd\", \"Grind\", \"Swaggy\", \"Unique\", \"Hypeman\", \"Supreme\", \"Queen\", \"Swerve\", \"Legend\", \"Cipher\", \"Savage\", \"Lawless\"]\n",
    "    digit = int(input(\"You selected rapper! What is the last digit of your phone number?\"))\n",
    "    month = int(input(\"Sorry, one more piece of information! What is the number of your birth month?\"))\n",
    "    RapperNameGenerator.yourName(digit, month)\n",
    "elif whichGen == \"p\":\n",
    "    PopstarNameGenerator = NameGenerator()\n",
    "    PopstarNameGenerator.firstnames = [\"Britney\", \"Lady\", \"Elton\", \"Shania\", \"Dua\", \"Harry\", \"Moon\", \"Jhene\", \"Ariana\", \"Kali\"]\n",
    "    PopstarNameGenerator.lastnames = [\"There is no such thing as a zero month!\", \"Styles\", \"Aiko\", \"Gaga\", \"Spears\", \"Grande\", \"Twain\", \"Uchis\", \"John\", \"Lipa\", \"Byul\", \"Lovato\", \"Rocket Raccoon\"]\n",
    "    digit = int(input(\"You selected popstar! What is the last digit of your phone number?\"))\n",
    "    month = int(input(\"Sorry, one more piece of information! What is the number of your birth month?\"))\n",
    "    PopstarNameGenerator.yourName(digit,month)\n",
    "else:\n",
    "    print(\"You did not answer the prompt correctly.\")"
   ]
  },
  {
   "cell_type": "code",
   "execution_count": null,
   "id": "4a072a85",
   "metadata": {},
   "outputs": [],
   "source": []
  }
 ],
 "metadata": {
  "kernelspec": {
   "display_name": "Python 3 (ipykernel)",
   "language": "python",
   "name": "python3"
  },
  "language_info": {
   "codemirror_mode": {
    "name": "ipython",
    "version": 3
   },
   "file_extension": ".py",
   "mimetype": "text/x-python",
   "name": "python",
   "nbconvert_exporter": "python",
   "pygments_lexer": "ipython3",
   "version": "3.11.3"
  }
 },
 "nbformat": 4,
 "nbformat_minor": 5
}
