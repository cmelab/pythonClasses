{
 "cells": [
  {
   "cell_type": "code",
   "execution_count": 27,
   "id": "dcbe98bb",
   "metadata": {},
   "outputs": [],
   "source": [
    "class NameGenerator:\n",
    "    def __init__(self, digit, month, firstnames, lastnames):\n",
    "        self.firstnames = firstnames\n",
    "        self.lastnames = lastnames\n",
    "        self.digit = digit\n",
    "        self.month = month\n",
    "    \n",
    "    def yourName(self):\n",
    "        print('Your name is {} {}!'.format(self.firstnames[self.digit], self.lastnames[self.month]))"
   ]
  },
  {
   "cell_type": "code",
   "execution_count": 28,
   "id": "ef4c2997",
   "metadata": {},
   "outputs": [],
   "source": [
    "class RapperNameGenerator(NameGenerator):\n",
    "    def __init__(self, digit, month):\n",
    "        firstnames = [\"Post\",\"Lil\", \"Young\", \"Bad\", \"Epic\", \"Baby\", \"Ultimate\", \"Fierce\", \"Drip\", \"Big\"]\n",
    "        lastnames = [\"There is no such thing as a zero month!\", \"Book Nerd\", \"Grind\", \"Swaggy\", \"Unique\", \"Hypeman\", \"Supreme\", \"Queen\", \"Swerve\", \"Legend\", \"Cipher\", \"Savage\", \"Lawless\"]\n",
    "        super(RapperNameGenerator, self).__init__(\n",
    "        digit = digit, month = month, firstnames = firstnames, lastnames = lastnames\n",
    "        )"
   ]
  },
  {
   "cell_type": "code",
   "execution_count": 19,
   "id": "31d8a9a3",
   "metadata": {},
   "outputs": [],
   "source": [
    "class PopstarNameGenerator(NameGenerator):\n",
    "    def __init__(self):\n",
    "        self.firstnames = [\"Britney\", \"Lady\", \"Elton\", \"Shania\", \"Dua\", \"Harry\", \"Moon\", \"Jhene\", \"Ariana\", \"Kali\"]\n",
    "        self.lastnames = [\"There is no such thing as a zero month!\", \"Styles\", \"Aiko\", \"Gaga\", \"Spears\", \"Grande\", \"Twain\", \"Uchis\", \"John\", \"Lipa\", \"Byul\", \"Lovato\", \"Rocket Raccoon\"]"
   ]
  },
  {
   "cell_type": "code",
   "execution_count": 29,
   "id": "c2955efc",
   "metadata": {},
   "outputs": [
    {
     "name": "stdout",
     "output_type": "stream",
     "text": [
      "Would you like to know your rapper name or your popstar name? (r/p)?r\n"
     ]
    }
   ],
   "source": [
    "whichGen = input(\"Would you like to know your rapper name or your popstar name? (r/p)?\")"
   ]
  },
  {
   "cell_type": "code",
   "execution_count": 33,
   "id": "27edef9d",
   "metadata": {},
   "outputs": [
    {
     "name": "stdout",
     "output_type": "stream",
     "text": [
      "What is the last digit of your phone number?6\n",
      "What is the digit of your birth month?6\n",
      "Your name is Ultimate Supreme!\n",
      "None\n"
     ]
    }
   ],
   "source": [
    "digit = int(input(\"What is the last digit of your phone number?\"))\n",
    "month = int(input(\"What is the digit of your birth month?\"))\n",
    "\n",
    "if whichGen == \"r\":\n",
    "    myName = RapperNameGenerator(digit, month)\n",
    "    print(myName.yourName())\n",
    "elif whichGen == \"p\":\n",
    "    myName = PopstarNameGenerator(digit,month)nc\")"
   ]
  },
  {
   "cell_type": "code",
   "execution_count": null,
   "id": "c7cb4c41",
   "metadata": {},
   "outputs": [],
   "source": []
  }
 ],
 "metadata": {
  "kernelspec": {
   "display_name": "Python 3 (ipykernel)",
   "language": "python",
   "name": "python3"
  },
  "language_info": {
   "codemirror_mode": {
    "name": "ipython",
    "version": 3
   },
   "file_extension": ".py",
   "mimetype": "text/x-python",
   "name": "python",
   "nbconvert_exporter": "python",
   "pygments_lexer": "ipython3",
   "version": "3.11.3"
  }
 },
 "nbformat": 4,
 "nbformat_minor": 5
}
