{
 "cells": [
  {
   "cell_type": "code",
   "execution_count": 28,
   "id": "a88d32e3",
   "metadata": {},
   "outputs": [],
   "source": [
    "class FamilyNames:\n",
    "    def __init__(self):\n",
    "        self.uncle = \"Dani's uncle's name is Jose\"\n",
    "        self.mom = \"Dani's mom's name is Cecy\"\n",
    "        self.dad = \"Dani's dad's name is Roy\"\n",
    "        self.aunt = \"Dani's aunt's name is Mimi\""
   ]
  },
  {
   "cell_type": "code",
   "execution_count": 32,
   "id": "0b134869",
   "metadata": {},
   "outputs": [
    {
     "name": "stdout",
     "output_type": "stream",
     "text": [
      "Dani's mom's name is Cecy and Dani's uncle's name is Jose\n"
     ]
    }
   ],
   "source": [
    "Dani = FamilyNames()\n",
    "print (Dani.mom,\"and\",Dani.uncle)"
   ]
  },
  {
   "cell_type": "code",
   "execution_count": null,
   "id": "6c94b455",
   "metadata": {},
   "outputs": [],
   "source": []
  }
 ],
 "metadata": {
  "kernelspec": {
   "display_name": "Python 3 (ipykernel)",
   "language": "python",
   "name": "python3"
  },
  "language_info": {
   "codemirror_mode": {
    "name": "ipython",
    "version": 3
   },
   "file_extension": ".py",
   "mimetype": "text/x-python",
   "name": "python",
   "nbconvert_exporter": "python",
   "pygments_lexer": "ipython3",
   "version": "3.11.3"
  }
 },
 "nbformat": 4,
 "nbformat_minor": 5
}
