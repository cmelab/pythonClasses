{
 "cells": [
  {
   "cell_type": "code",
   "execution_count": 111,
   "id": "dcbe98bb",
   "metadata": {},
   "outputs": [],
   "source": [
    "class NameGenerator:\n",
    "    def __init__(self):\n",
    "        self.firstnames = [\"First name\", \"First name 2\"]\n",
    "        self.lastnames = [\"Last name\", \"Last name 2\"]\n",
    "    \n",
    "    def yourName(self, digit, month):\n",
    "        print('Your name is {} {}!'.format(firstnames[digit], lastnames[month]))"
   ]
  },
  {
   "cell_type": "code",
   "execution_count": null,
   "id": "c2955efc",
   "metadata": {},
   "outputs": [],
   "source": [
    "digit = input(\"What is the last digit of your phone number?\")\n",
    "month = input(\"Sorry, one more piece of information! What is the number of your birth month?\")"
   ]
  },
  {
   "cell_type": "code",
   "execution_count": null,
   "id": "30e8f5c9",
   "metadata": {},
   "outputs": [],
   "source": [
    "RapperNameGenerator = NameGenerator()\n",
    "PopstarNameGenerator = NameGenerator()"
   ]
  },
  {
   "cell_type": "code",
   "execution_count": null,
   "id": "e4fa2769",
   "metadata": {},
   "outputs": [],
   "source": [
    "RapperNameGenerator.firstnames = [\"Dani\"]\n",
    "RapperNameGenerator.lastnames = [\"Ally\"]\n",
    "PopstarNameGenerator.firstnames = [\"Eric\"]\n",
    "PopstarNameGenerator.lastnames = [\"Rainier\"]"
   ]
  },
  {
   "cell_type": "code",
   "execution_count": null,
   "id": "dfb7e36a",
   "metadata": {},
   "outputs": [],
   "source": [
    "print(RapperNameGenerator.firstnames[0], RapperNameGenerator.lastnames[0])"
   ]
  },
  {
   "cell_type": "code",
   "execution_count": null,
   "id": "1658aa08",
   "metadata": {},
   "outputs": [],
   "source": []
  }
 ],
 "metadata": {
  "kernelspec": {
   "display_name": "Python 3 (ipykernel)",
   "language": "python",
   "name": "python3"
  },
  "language_info": {
   "codemirror_mode": {
    "name": "ipython",
    "version": 3
   },
   "file_extension": ".py",
   "mimetype": "text/x-python",
   "name": "python",
   "nbconvert_exporter": "python",
   "pygments_lexer": "ipython3",
   "version": "3.11.3"
  }
 },
 "nbformat": 4,
 "nbformat_minor": 5
}
